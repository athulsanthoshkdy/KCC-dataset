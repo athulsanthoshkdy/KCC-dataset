{
 "cells": [
  {
   "cell_type": "code",
   "execution_count": 1,
   "id": "2e794efe",
   "metadata": {},
   "outputs": [
    {
     "name": "stdout",
     "output_type": "stream",
     "text": [
      "SparkSession created successfully!\n"
     ]
    }
   ],
   "source": [
    "# Initialize SparkSession\n",
    "from pyspark.sql import SparkSession\n",
    "\n",
    "spark = SparkSession.builder \\\n",
    "    .appName(\"ParquetReader\") \\\n",
    "    .getOrCreate()\n",
    "\n",
    "print(\"SparkSession created successfully!\")"
   ]
  },
  {
   "cell_type": "code",
   "execution_count": 2,
   "id": "0f852ebc",
   "metadata": {},
   "outputs": [
    {
     "name": "stdout",
     "output_type": "stream",
     "text": [
      "Successfully loaded data from D:\\Scripts\\Kissan Dataset\\kcc_all_states_combined.parquet into a Spark DataFrame.\n",
      "\n",
      "Initial Data Inspection (Spark DataFrame):\n",
      "root\n",
      " |-- StateName: string (nullable = true)\n",
      " |-- DistrictName: string (nullable = true)\n",
      " |-- BlockName: string (nullable = true)\n",
      " |-- Season: string (nullable = true)\n",
      " |-- Sector: string (nullable = true)\n",
      " |-- Category: string (nullable = true)\n",
      " |-- Crop: string (nullable = true)\n",
      " |-- QueryType: string (nullable = true)\n",
      " |-- QueryText: string (nullable = true)\n",
      " |-- KccAns: string (nullable = true)\n",
      " |-- CreatedOn: string (nullable = true)\n",
      " |-- year: string (nullable = true)\n",
      " |-- month: string (nullable = true)\n",
      " |-- source_file: string (nullable = true)\n",
      "\n",
      "+--------------------+--------------------+--------------+------+------------+--------+-----------------+--------------------+--------------------+--------------------+--------------------+----+-----+--------------------+\n",
      "|           StateName|        DistrictName|     BlockName|Season|      Sector|Category|             Crop|           QueryType|           QueryText|              KccAns|           CreatedOn|year|month|         source_file|\n",
      "+--------------------+--------------------+--------------+------+------------+--------+-----------------+--------------------+--------------------+--------------------+--------------------+----+-----+--------------------+\n",
      "|              ODISHA|            NAYAGARH|     DASAPALLA|    NA| AGRICULTURE|  Others|           Others|  Government Schemes|Mandi registratio...|Advised to contac...|2023-02-03T14:09:...|2023|    2|file:///D:/Script...|\n",
      "|              ODISHA|             CUTTACK|TANGI CHOUDWAR|    NA|HORTICULTURE| Flowers|Hibiscus (Gurhal)|\\tPlant Protection\\t|White mealy bug i...|Recommended to sp...|2023-02-03T14:16:...|2023|    2|file:///D:/Script...|\n",
      "|              ODISHA|             BHADRAK|       BHADRAK|    NA|HORTICULTURE|  Fruits|            Mango| Nutrient Management|About planofix ( ...|Planofix ( Alpha ...|2023-02-03T15:10:...|2023|    2|file:///D:/Script...|\n",
      "|              ODISHA|           KALAHANDI|        NARALA|    NA| AGRICULTURE| Cereals|     Paddy (Dhan)|\\tPlant Protection\\t|Gall midge infest...|Recommended to sp...|                NULL|NULL| NULL|file:///D:/Script...|\n",
      "|Dose of Zinc sulp...|2023-02-04T11:12:...|          2023|     2|        NULL|    NULL|             NULL|                NULL|                NULL|                NULL|                NULL|NULL| NULL|file:///D:/Script...|\n",
      "+--------------------+--------------------+--------------+------+------------+--------+-----------------+--------------------+--------------------+--------------------+--------------------+----+-----+--------------------+\n",
      "only showing top 5 rows\n",
      "\n",
      "Number of rows: 79259351\n"
     ]
    }
   ],
   "source": [
    "# Define the path to the folder in your Google Drive\n",
    "folder_path = 'D:\\Scripts\\Kissan Dataset\\kcc_all_states_combined.parquet'\n",
    "\n",
    "# Read the parquet files from the folder using Spark\n",
    "try:\n",
    "    spark_df = spark.read.parquet(folder_path)\n",
    "\n",
    "    print(f\"Successfully loaded data from {folder_path} into a Spark DataFrame.\")\n",
    "    print(\"\\nInitial Data Inspection (Spark DataFrame):\")\n",
    "    spark_df.printSchema()\n",
    "    spark_df.show(5)\n",
    "    print(f\"\\nNumber of rows: {spark_df.count()}\")\n",
    "\n",
    "\n",
    "except Exception as e:\n",
    "    print(f\"An error occurred while reading the parquet files with Spark: {e}\")"
   ]
  },
  {
   "cell_type": "code",
   "execution_count": 3,
   "id": "fb90bc64",
   "metadata": {},
   "outputs": [
    {
     "name": "stdout",
     "output_type": "stream",
     "text": [
      "Checking for missing values (nulls) in all columns:\n",
      "+---------+------------+---------+--------+--------+--------+--------+---------+---------+--------+---------+--------+--------+-----------+\n",
      "|StateName|DistrictName|BlockName|  Season|  Sector|Category|    Crop|QueryType|QueryText|  KccAns|CreatedOn|    year|   month|source_file|\n",
      "+---------+------------+---------+--------+--------+--------+--------+---------+---------+--------+---------+--------+--------+-----------+\n",
      "|    14362|    24863620| 26347809|26880217|29885686|30747830|31102588| 31278797| 31383472|38250028| 45351733|45385186|45412518|          0|\n",
      "+---------+------------+---------+--------+--------+--------+--------+---------+---------+--------+---------+--------+--------+-----------+\n",
      "\n"
     ]
    }
   ],
   "source": [
    "from pyspark.sql.functions import col, sum\n",
    "\n",
    "# Check for missing values (nulls) in each column\n",
    "print(\"Checking for missing values (nulls) in all columns:\")\n",
    "spark_df.select([sum(col(c).isNull().cast(\"integer\")).alias(c) for c in spark_df.columns]).show()"
   ]
  },
  {
   "cell_type": "code",
   "execution_count": 4,
   "id": "ec873ab0",
   "metadata": {},
   "outputs": [
    {
     "name": "stdout",
     "output_type": "stream",
     "text": [
      "+--------------------+--------------------+--------------+------+------------+----------+--------------------+--------------------+--------------------+--------------------+--------------------+----+-----+--------------------+\n",
      "|           StateName|        DistrictName|     BlockName|Season|      Sector|  Category|                Crop|           QueryType|           QueryText|              KccAns|           CreatedOn|year|month|         source_file|\n",
      "+--------------------+--------------------+--------------+------+------------+----------+--------------------+--------------------+--------------------+--------------------+--------------------+----+-----+--------------------+\n",
      "|              ODISHA|            NAYAGARH|     DASAPALLA|    NA| AGRICULTURE|    Others|              Others|  Government Schemes|Mandi registratio...|Advised to contac...|2023-02-03T14:09:...|2023|    2|file:///D:/Script...|\n",
      "|              ODISHA|             CUTTACK|TANGI CHOUDWAR|    NA|HORTICULTURE|   Flowers|   Hibiscus (Gurhal)|\\tPlant Protection\\t|White mealy bug i...|Recommended to sp...|2023-02-03T14:16:...|2023|    2|file:///D:/Script...|\n",
      "|              ODISHA|             BHADRAK|       BHADRAK|    NA|HORTICULTURE|    Fruits|               Mango| Nutrient Management|About planofix ( ...|Planofix ( Alpha ...|2023-02-03T15:10:...|2023|    2|file:///D:/Script...|\n",
      "|              ODISHA|           KALAHANDI|        NARALA|    NA| AGRICULTURE|   Cereals|        Paddy (Dhan)|\\tPlant Protection\\t|Gall midge infest...|Recommended to sp...|                NULL|NULL| NULL|file:///D:/Script...|\n",
      "|Dose of Zinc sulp...|2023-02-04T11:12:...|          2023|     2|        NULL|      NULL|                NULL|                NULL|                NULL|                NULL|                NULL|NULL| NULL|file:///D:/Script...|\n",
      "|              ODISHA|             BARGARH|       SOHELLA|    NA| AGRICULTURE|   Cereals|        Paddy (Dhan)|\\tPlant Protection\\t|Leaf folder in paddy|Recommended to sp...|2023-02-04T11:50:...|2023|    2|file:///D:/Script...|\n",
      "|              ODISHA|                PURI|         KANAS|    NA|HORTICULTURE|Vegetables|            Chillies|\\tPlant Protection\\t|leaf curling in c...|Recommended to sp...|2023-02-03T18:57:...|2023|    2|file:///D:/Script...|\n",
      "|              ODISHA|                PURI|         KANAS|    NA|HORTICULTURE|Vegetables|             Pumpkin| Nutrient Management|Better flower & f...|Recommended to sp...|2023-02-03T19:02:...|2023|    2|file:///D:/Script...|\n",
      "|              ODISHA|            NAWAPARA|      SINAPALI|    NA| AGRICULTURE|  Oilseeds|Sunflower (suryam...|  Cultural Practices|Sunflower duratio...|Advised that sunf...|2023-02-03T19:10:...|2023|    2|file:///D:/Script...|\n",
      "|              ODISHA|            BALASORE|      BALIAPAL|    NA| AGRICULTURE|   Cereals|        Paddy (Dhan)|\\tPlant Protection\\t|Way of applicatio...|Recommended to sp...|2023-02-04T07:44:...|2023|    2|file:///D:/Script...|\n",
      "|              ODISHA|           KALAHANDI|      JUNAGARH|    NA| AGRICULTURE|    Others|              Others|  Market Information|Mandi token relat...|Advised to contac...|2023-02-04T07:53:...|2023|    2|file:///D:/Script...|\n",
      "|              ODISHA|             BHADRAK|    DHAMANAGAR|    NA| AGRICULTURE|    Others|              Others|  Market Information| Mandi related issue|Advised  to consu...|2023-02-04T08:17:...|2023|    2|file:///D:/Script...|\n",
      "|              ODISHA|             BARGARH|      GAISILET|    NA| AGRICULTURE|   Cereals|        Paddy (Dhan)|     Weed Management|Algae in paddy fi...|--Recommended to ...|2023-02-02T17:56:...|2023|    2|file:///D:/Script...|\n",
      "|              ODISHA|             CUTTACK|TANGI CHOUDWAR|    NA|HORTICULTURE|Vegetables|            Chillies|\\tPlant Protection\\t|Green peach aphid...|Recommended to sp...|2023-02-02T15:38:...|2023|    2|file:///D:/Script...|\n",
      "|              ODISHA|                PURI|        PIPILI|    NA| AGRICULTURE|    Pulses|Black Gram (urd b...|Fertilizer Use an...|Fertilizer Dose o...|Fertilizer Dose o...|2023-02-02T15:41:...|2023|    2|file:///D:/Script...|\n",
      "|              ODISHA|      JAGATSINGHAPUR|        TIRTOL|    NA|HORTICULTURE|Vegetables|        Bitter Gourd|\\tPlant Protection\\t|Chewing pest in b...|Recommended to sp...|2023-02-02T15:47:...|2023|    2|file:///D:/Script...|\n",
      "|              ODISHA|          MAYURBHANJ|       KULIANA|    NA| AGRICULTURE|   Millets|       Maize (Makka)|\\tPlant Protection\\t|Leaf Folder in Ma...|Recommended to sp...|                NULL|NULL| NULL|file:///D:/Script...|\n",
      "|Recommended to sp...|2023-02-02T15:55:...|          2023|     2|        NULL|      NULL|                NULL|                NULL|                NULL|                NULL|                NULL|NULL| NULL|file:///D:/Script...|\n",
      "|              ODISHA|            BALASORE|       BHOGRAI|    NA|HORTICULTURE|Vegetables|Bhindi(Okra/Ladys...|\\tPlant Protection\\t| Shoot borer in okra|Recommended to ap...|2023-02-02T16:15:...|2023|    2|file:///D:/Script...|\n",
      "|              ODISHA|            KEONJHAR|        PATANA|    NA|HORTICULTURE|Vegetables|             Pumpkin|\\tPlant Protection\\t|chewing pest at 2...| Recommended to a...|2023-02-02T16:18:...|2023|    2|file:///D:/Script...|\n",
      "+--------------------+--------------------+--------------+------+------------+----------+--------------------+--------------------+--------------------+--------------------+--------------------+----+-----+--------------------+\n",
      "only showing top 20 rows\n"
     ]
    }
   ],
   "source": [
    "from pyspark.sql.functions import col\n",
    "from functools import reduce\n",
    "\n",
    "# Create a list of columns to check for emptiness, excluding 'source_files'\n",
    "columns_to_check = [c for c in spark_df.columns if c != 'source_file']\n",
    "\n",
    "# Build the condition for rows where all the columns in 'columns_to_check' are null or empty\n",
    "condition = (col(c).isNull() | (col(c) == '') for c in columns_to_check)\n",
    "\n",
    "# Combine all the conditions using the `&` (AND) operator\n",
    "combined_condition = reduce(lambda x, y: x & y, condition)\n",
    "\n",
    "# Filter the rows where at least one column in 'columns_to_check' is not null or empty\n",
    "filtered_df = spark_df.filter(~combined_condition)\n",
    "\n",
    "# Show the result\n",
    "filtered_df.show()\n"
   ]
  },
  {
   "cell_type": "code",
   "execution_count": 5,
   "id": "17b86c3a",
   "metadata": {},
   "outputs": [
    {
     "name": "stdout",
     "output_type": "stream",
     "text": [
      "Checking for missing values (nulls) in all columns:\n",
      "+---------+------------+---------+--------+--------+--------+--------+---------+---------+--------+---------+--------+--------+-----------+\n",
      "|StateName|DistrictName|BlockName|  Season|  Sector|Category|    Crop|QueryType|QueryText|  KccAns|CreatedOn|    year|   month|source_file|\n",
      "+---------+------------+---------+--------+--------+--------+--------+---------+---------+--------+---------+--------+--------+-----------+\n",
      "|    12342|    24861600| 26345789|26878197|29883666|30745810|31100568| 31276777| 31381452|38248008| 45349713|45383166|45410498|          0|\n",
      "+---------+------------+---------+--------+--------+--------+--------+---------+---------+--------+---------+--------+--------+-----------+\n",
      "\n"
     ]
    }
   ],
   "source": [
    "from pyspark.sql.functions import col, sum\n",
    "\n",
    "# Check for missing values (nulls) in each column\n",
    "print(\"Checking for missing values (nulls) in all columns:\")\n",
    "filtered_df.select([sum(col(c).isNull().cast(\"integer\")).alias(c) for c in filtered_df.columns]).show()"
   ]
  },
  {
   "cell_type": "code",
   "execution_count": 6,
   "id": "3cfa0046",
   "metadata": {},
   "outputs": [
    {
     "name": "stdout",
     "output_type": "stream",
     "text": [
      "Original number of rows: 79257331\n",
      "Number of rows after dropping missing QueryText/KccAns: 41004159\n"
     ]
    }
   ],
   "source": [
    "from pyspark.sql.functions import col\n",
    "\n",
    "# Drop rows where QueryText is null, empty string, or \"NULL\" OR KccAns is null, empty string, or \"NULL\"\n",
    "cleaned_spark_df = filtered_df.filter(\n",
    "    ~((col(\"QueryText\").isNull()) | (col(\"QueryText\") == \"\") | (col(\"QueryText\") == \"NULL\")) &\n",
    "    ~((col(\"KccAns\").isNull()) | (col(\"KccAns\") == \"\") | (col(\"KccAns\") == \"NULL\"))\n",
    ")\n",
    "\n",
    "print(f\"Original number of rows: {filtered_df.count()}\")\n",
    "print(f\"Number of rows after dropping missing QueryText/KccAns: {cleaned_spark_df.count()}\")"
   ]
  },
  {
   "cell_type": "code",
   "execution_count": 7,
   "id": "a3901759",
   "metadata": {},
   "outputs": [
    {
     "name": "stdout",
     "output_type": "stream",
     "text": [
      "Checking for missing values (nulls) in all columns:\n",
      "+---------+------------+---------+------+------+--------+----+---------+---------+------+---------+-------+-------+-----------+\n",
      "|StateName|DistrictName|BlockName|Season|Sector|Category|Crop|QueryType|QueryText|KccAns|CreatedOn|   year|  month|source_file|\n",
      "+---------+------------+---------+------+------+--------+----+---------+---------+------+---------+-------+-------+-----------+\n",
      "|      164|         355|      123|   633|   359|    2458| 818|     2505|        0|     0|  7267178|7300552|7327698|          0|\n",
      "+---------+------------+---------+------+------+--------+----+---------+---------+------+---------+-------+-------+-----------+\n",
      "\n"
     ]
    }
   ],
   "source": [
    "from pyspark.sql.functions import col, sum\n",
    "\n",
    "# Check for missing values (nulls) in each column\n",
    "print(\"Checking for missing values (nulls) in all columns:\")\n",
    "cleaned_spark_df.select([sum(col(c).isNull().cast(\"integer\")).alias(c) for c in cleaned_spark_df.columns]).show()"
   ]
  },
  {
   "cell_type": "code",
   "execution_count": 8,
   "id": "c294e9e2",
   "metadata": {},
   "outputs": [
    {
     "name": "stdout",
     "output_type": "stream",
     "text": [
      "Original number of rows: 41004159\n",
      "Number of rows after dropping 'test' or 'wrong number' in KccAns: 40966773\n"
     ]
    }
   ],
   "source": [
    "from pyspark.sql.functions import col, lower\n",
    "\n",
    "# Define keywords to filter out (converted to lowercase)\n",
    "print(f\"Original number of rows: {cleaned_spark_df.count()}\")\n",
    "keywords_to_drop = [\"wrong number\", \"test call\"]\n",
    "\n",
    "# Create a condition to filter OUT rows where KccAns_cleaned contains any of the keywords\n",
    "# We'll convert KccAns_cleaned to lowercase for case-insensitive matching\n",
    "filter_condition_to_drop = lower(col(\"KccAns\")).contains(keywords_to_drop[0])\n",
    "for keyword in keywords_to_drop[1:]:\n",
    "    filter_condition_to_drop = filter_condition_to_drop | lower(col(\"KccAns\")).contains(keyword)\n",
    "\n",
    "# Filter the DataFrame to keep rows that DO NOT contain the keywords\n",
    "cleaned_spark_df = cleaned_spark_df.filter(~filter_condition_to_drop)\n",
    "\n",
    "# Print the row counts before and after the filtering\n",
    "\n",
    "print(f\"Number of rows after dropping 'test' or 'wrong number' in KccAns: {cleaned_spark_df.count()}\")\n",
    "\n",
    "# Optionally, you can save the updated DataFrame back to a file, if needed\n",
    "# Example: Save it in Parquet format\n",
    "# cleaned_spark_df.write.parquet(\"path_to_save/cleaned_spark_df.parquet\")\n"
   ]
  },
  {
   "cell_type": "code",
   "execution_count": 9,
   "id": "d45b8d7c",
   "metadata": {},
   "outputs": [
    {
     "name": "stdout",
     "output_type": "stream",
     "text": [
      "Checking for missing values (nulls) in all columns:\n",
      "+---------+------------+---------+------+------+--------+----+---------+---------+------+---------+-------+-------+-----------+\n",
      "|StateName|DistrictName|BlockName|Season|Sector|Category|Crop|QueryType|QueryText|KccAns|CreatedOn|   year|  month|source_file|\n",
      "+---------+------------+---------+------+------+--------+----+---------+---------+------+---------+-------+-------+-----------+\n",
      "|      164|         355|      123|   633|   359|    2458| 818|     2505|        0|     0|  7267113|7300487|7327633|          0|\n",
      "+---------+------------+---------+------+------+--------+----+---------+---------+------+---------+-------+-------+-----------+\n",
      "\n"
     ]
    }
   ],
   "source": [
    "from pyspark.sql.functions import col, sum\n",
    "\n",
    "# Check for missing values (nulls) in each column\n",
    "print(\"Checking for missing values (nulls) in all columns:\")\n",
    "cleaned_spark_df.select([sum(col(c).isNull().cast(\"integer\")).alias(c) for c in cleaned_spark_df.columns]).show()"
   ]
  },
  {
   "cell_type": "code",
   "execution_count": 10,
   "id": "2557e71a",
   "metadata": {},
   "outputs": [
    {
     "name": "stdout",
     "output_type": "stream",
     "text": [
      "Sample values from 'source_file' column:\n",
      "+------------------------------------------------------------------+\n",
      "|source_file                                                       |\n",
      "+------------------------------------------------------------------+\n",
      "|file:///D:/Scripts/Kissan%20Dataset/Dataset/kcc_dataset_ODISHA.csv|\n",
      "|file:///D:/Scripts/Kissan%20Dataset/Dataset/kcc_dataset_ODISHA.csv|\n",
      "|file:///D:/Scripts/Kissan%20Dataset/Dataset/kcc_dataset_ODISHA.csv|\n",
      "|file:///D:/Scripts/Kissan%20Dataset/Dataset/kcc_dataset_ODISHA.csv|\n",
      "|file:///D:/Scripts/Kissan%20Dataset/Dataset/kcc_dataset_ODISHA.csv|\n",
      "|file:///D:/Scripts/Kissan%20Dataset/Dataset/kcc_dataset_ODISHA.csv|\n",
      "|file:///D:/Scripts/Kissan%20Dataset/Dataset/kcc_dataset_ODISHA.csv|\n",
      "|file:///D:/Scripts/Kissan%20Dataset/Dataset/kcc_dataset_ODISHA.csv|\n",
      "|file:///D:/Scripts/Kissan%20Dataset/Dataset/kcc_dataset_ODISHA.csv|\n",
      "|file:///D:/Scripts/Kissan%20Dataset/Dataset/kcc_dataset_ODISHA.csv|\n",
      "|file:///D:/Scripts/Kissan%20Dataset/Dataset/kcc_dataset_ODISHA.csv|\n",
      "|file:///D:/Scripts/Kissan%20Dataset/Dataset/kcc_dataset_ODISHA.csv|\n",
      "|file:///D:/Scripts/Kissan%20Dataset/Dataset/kcc_dataset_ODISHA.csv|\n",
      "|file:///D:/Scripts/Kissan%20Dataset/Dataset/kcc_dataset_ODISHA.csv|\n",
      "|file:///D:/Scripts/Kissan%20Dataset/Dataset/kcc_dataset_ODISHA.csv|\n",
      "|file:///D:/Scripts/Kissan%20Dataset/Dataset/kcc_dataset_ODISHA.csv|\n",
      "|file:///D:/Scripts/Kissan%20Dataset/Dataset/kcc_dataset_ODISHA.csv|\n",
      "|file:///D:/Scripts/Kissan%20Dataset/Dataset/kcc_dataset_ODISHA.csv|\n",
      "|file:///D:/Scripts/Kissan%20Dataset/Dataset/kcc_dataset_ODISHA.csv|\n",
      "|file:///D:/Scripts/Kissan%20Dataset/Dataset/kcc_dataset_ODISHA.csv|\n",
      "+------------------------------------------------------------------+\n",
      "only showing top 20 rows\n",
      "\n",
      "Sample values after attempting to populate StateName:\n",
      "+---------+------------------------------------------------------------------+\n",
      "|StateName|source_file                                                       |\n",
      "+---------+------------------------------------------------------------------+\n",
      "|ODISHA   |file:///D:/Scripts/Kissan%20Dataset/Dataset/kcc_dataset_ODISHA.csv|\n",
      "|ODISHA   |file:///D:/Scripts/Kissan%20Dataset/Dataset/kcc_dataset_ODISHA.csv|\n",
      "|ODISHA   |file:///D:/Scripts/Kissan%20Dataset/Dataset/kcc_dataset_ODISHA.csv|\n",
      "|ODISHA   |file:///D:/Scripts/Kissan%20Dataset/Dataset/kcc_dataset_ODISHA.csv|\n",
      "|ODISHA   |file:///D:/Scripts/Kissan%20Dataset/Dataset/kcc_dataset_ODISHA.csv|\n",
      "|ODISHA   |file:///D:/Scripts/Kissan%20Dataset/Dataset/kcc_dataset_ODISHA.csv|\n",
      "|ODISHA   |file:///D:/Scripts/Kissan%20Dataset/Dataset/kcc_dataset_ODISHA.csv|\n",
      "|ODISHA   |file:///D:/Scripts/Kissan%20Dataset/Dataset/kcc_dataset_ODISHA.csv|\n",
      "|ODISHA   |file:///D:/Scripts/Kissan%20Dataset/Dataset/kcc_dataset_ODISHA.csv|\n",
      "|ODISHA   |file:///D:/Scripts/Kissan%20Dataset/Dataset/kcc_dataset_ODISHA.csv|\n",
      "|ODISHA   |file:///D:/Scripts/Kissan%20Dataset/Dataset/kcc_dataset_ODISHA.csv|\n",
      "|ODISHA   |file:///D:/Scripts/Kissan%20Dataset/Dataset/kcc_dataset_ODISHA.csv|\n",
      "|ODISHA   |file:///D:/Scripts/Kissan%20Dataset/Dataset/kcc_dataset_ODISHA.csv|\n",
      "|ODISHA   |file:///D:/Scripts/Kissan%20Dataset/Dataset/kcc_dataset_ODISHA.csv|\n",
      "|ODISHA   |file:///D:/Scripts/Kissan%20Dataset/Dataset/kcc_dataset_ODISHA.csv|\n",
      "|ODISHA   |file:///D:/Scripts/Kissan%20Dataset/Dataset/kcc_dataset_ODISHA.csv|\n",
      "|ODISHA   |file:///D:/Scripts/Kissan%20Dataset/Dataset/kcc_dataset_ODISHA.csv|\n",
      "|ODISHA   |file:///D:/Scripts/Kissan%20Dataset/Dataset/kcc_dataset_ODISHA.csv|\n",
      "|ODISHA   |file:///D:/Scripts/Kissan%20Dataset/Dataset/kcc_dataset_ODISHA.csv|\n",
      "|ODISHA   |file:///D:/Scripts/Kissan%20Dataset/Dataset/kcc_dataset_ODISHA.csv|\n",
      "+---------+------------------------------------------------------------------+\n",
      "only showing top 20 rows\n",
      "\n",
      "Number of rows after attempting to populate StateName: 40966773\n"
     ]
    }
   ],
   "source": [
    "from pyspark.sql.functions import col, split, element_at, when\n",
    "\n",
    "# Show a sample of the 'source_file' column to understand its structure\n",
    "print(\"Sample values from 'source_file' column:\")\n",
    "cleaned_spark_df.select(\"source_file\").show(20, truncate=False)\n",
    "\n",
    "# Let's assume the state name is part of the path, just before the filename\n",
    "# Extract the state name from the 'source_file' column\n",
    "cleaned_spark_df = cleaned_spark_df.withColumn(\n",
    "    \"extracted_state\",\n",
    "    when(col(\"source_file\").isNotNull(), element_at(split(col(\"source_file\"), \"/\"), -2)).otherwise(None)\n",
    ")\n",
    "\n",
    "# Update 'StateName' only where it's null, empty, or 'NULL', using the extracted state name\n",
    "cleaned_spark_df = cleaned_spark_df.withColumn(\n",
    "    \"StateName\",\n",
    "    when(\n",
    "        (col(\"StateName\").isNull()) | (col(\"StateName\") == \"\") | (col(\"StateName\") == \"NULL\"),\n",
    "        col(\"extracted_state\")\n",
    "    ).otherwise(col(\"StateName\"))\n",
    ").drop(\"extracted_state\")  # Drop the temporary 'extracted_state' column\n",
    "\n",
    "# Show a sample of the updated 'StateName' and 'source_file'\n",
    "print(\"\\nSample values after attempting to populate StateName:\")\n",
    "cleaned_spark_df.select(\"StateName\", \"source_file\").show(20, truncate=False)\n",
    "\n",
    "# Print the number of rows after updating the 'StateName'\n",
    "print(f\"\\nNumber of rows after attempting to populate StateName: {cleaned_spark_df.count()}\")\n"
   ]
  },
  {
   "cell_type": "code",
   "execution_count": 11,
   "id": "19729d21",
   "metadata": {},
   "outputs": [
    {
     "name": "stdout",
     "output_type": "stream",
     "text": [
      "Checking for missing values (nulls) in all columns:\n",
      "+---------+------------+---------+------+------+--------+----+---------+---------+------+---------+-------+-------+-----------+\n",
      "|StateName|DistrictName|BlockName|Season|Sector|Category|Crop|QueryType|QueryText|KccAns|CreatedOn|   year|  month|source_file|\n",
      "+---------+------------+---------+------+------+--------+----+---------+---------+------+---------+-------+-------+-----------+\n",
      "|        0|         355|      123|   633|   359|    2458| 818|     2505|        0|     0|  7267113|7300487|7327633|          0|\n",
      "+---------+------------+---------+------+------+--------+----+---------+---------+------+---------+-------+-------+-----------+\n",
      "\n"
     ]
    }
   ],
   "source": [
    "from pyspark.sql.functions import col, sum\n",
    "\n",
    "# Check for missing values (nulls) in each column\n",
    "print(\"Checking for missing values (nulls) in all columns:\")\n",
    "cleaned_spark_df.select([sum(col(c).isNull().cast(\"integer\")).alias(c) for c in cleaned_spark_df.columns]).show()"
   ]
  },
  {
   "cell_type": "code",
   "execution_count": 12,
   "id": "972f6ef2",
   "metadata": {},
   "outputs": [
    {
     "name": "stdout",
     "output_type": "stream",
     "text": [
      "Number of rows after filtering valid StateNames: 40757584\n",
      "+---------+--------------+--------------+------+------------+----------+------------------------+-------------------------------+------------------------------------------------------------+-------------------------------------------------------------------------------------------------------------------------------------------------------------------------------+-----------------------+----+-----+------------------------------------------------------------------+\n",
      "|StateName|DistrictName  |BlockName     |Season|Sector      |Category  |Crop                    |QueryType                      |QueryText                                                   |KccAns                                                                                                                                                                         |CreatedOn              |year|month|source_file                                                       |\n",
      "+---------+--------------+--------------+------+------------+----------+------------------------+-------------------------------+------------------------------------------------------------+-------------------------------------------------------------------------------------------------------------------------------------------------------------------------------+-----------------------+----+-----+------------------------------------------------------------------+\n",
      "|ODISHA   |NAYAGARH      |DASAPALLA     |NA    |AGRICULTURE |Others    |Others                  |Government Schemes             |Mandi registration related                                  |Advised to contact mandi helpline no.1967                                                                                                                                      |2023-02-03T14:09:14.853|2023|2    |file:///D:/Scripts/Kissan%20Dataset/Dataset/kcc_dataset_ODISHA.csv|\n",
      "|ODISHA   |CUTTACK       |TANGI CHOUDWAR|NA    |HORTICULTURE|Flowers   |Hibiscus (Gurhal)       |\\tPlant Protection\\t           |White mealy bug in Hibiscus flower                          |Recommended to spray Acephate 75 SP @ 200 gm per 200 litre of water per 1 acre of land.                                                                                        |2023-02-03T14:16:45.627|2023|2    |file:///D:/Scripts/Kissan%20Dataset/Dataset/kcc_dataset_ODISHA.csv|\n",
      "|ODISHA   |BHADRAK       |BHADRAK       |NA    |HORTICULTURE|Fruits    |Mango                   |Nutrient Management            |About planofix ( Alpha naphthyl acetic acid 4.5% SL ) .     |Planofix ( Alpha naphthyl acetic acid 4.5% SL )  @ 3ml per 15 litre of water  and 6 ml per 15 litre for Mango.                                                                 |2023-02-03T15:10:34.647|2023|2    |file:///D:/Scripts/Kissan%20Dataset/Dataset/kcc_dataset_ODISHA.csv|\n",
      "|ODISHA   |KALAHANDI     |NARALA        |NA    |AGRICULTURE |Cereals   |Paddy (Dhan)            |\\tPlant Protection\\t           |Gall midge infestation in paddy                             |Recommended to spray Fipronil 5% SC @ 400 ml per 200 litre of water per 1 acre of land.                                                                                        |NULL                   |NULL|NULL |file:///D:/Scripts/Kissan%20Dataset/Dataset/kcc_dataset_ODISHA.csv|\n",
      "|ODISHA   |BARGARH       |SOHELLA       |NA    |AGRICULTURE |Cereals   |Paddy (Dhan)            |\\tPlant Protection\\t           |Leaf folder in paddy                                        |Recommended to spray Indoxacarb 15.8% EC @ 120 ml in 200 Litre of water per acre of land (6 ml in 15 Litre water) to control Leaf folder in Paddy.                             |2023-02-04T11:50:13.34 |2023|2    |file:///D:/Scripts/Kissan%20Dataset/Dataset/kcc_dataset_ODISHA.csv|\n",
      "|ODISHA   |PURI          |KANAS         |NA    |HORTICULTURE|Vegetables|Chillies                |\\tPlant Protection\\t           |leaf curling in chillies                                    |Recommended to spray Thiomethoxam 25% WG @ 80 gm per 200 litre of water per 1 acre of land or 6 gm in 15 liter of water.                                                       |2023-02-03T18:57:32.763|2023|2    |file:///D:/Scripts/Kissan%20Dataset/Dataset/kcc_dataset_ODISHA.csv|\n",
      "|ODISHA   |PURI          |KANAS         |NA    |HORTICULTURE|Vegetables|Pumpkin                 |Nutrient Management            |Better flower & fruit setting in pumpkin                    |Recommended to spray Biovita liquid @ 1ml per liter of water/15 ml in 15 liter of water.                                                                                       |2023-02-03T19:02:35.48 |2023|2    |file:///D:/Scripts/Kissan%20Dataset/Dataset/kcc_dataset_ODISHA.csv|\n",
      "|ODISHA   |NAWAPARA      |SINAPALI      |NA    |AGRICULTURE |Oilseeds  |Sunflower (suryamukhi)  |Cultural Practices             |Sunflower duration related query                            |Advised that sunflower duration is 90-100 days                                                                                                                                 |2023-02-03T19:10:06.393|2023|2    |file:///D:/Scripts/Kissan%20Dataset/Dataset/kcc_dataset_ODISHA.csv|\n",
      "|ODISHA   |BALASORE      |BALIAPAL      |NA    |AGRICULTURE |Cereals   |Paddy (Dhan)            |\\tPlant Protection\\t           |Way of application of saathi pre-emergence herbicide in rice|Recommended to spray Pyrazosulphuron ethyl 10% wp ( saathi ) @ 80 gm per 200 litre of water per 1 acre of land or apply with 20 kg of sand, after 2-3 days after transplanting.|2023-02-04T07:44:18.58 |2023|2    |file:///D:/Scripts/Kissan%20Dataset/Dataset/kcc_dataset_ODISHA.csv|\n",
      "|ODISHA   |KALAHANDI     |JUNAGARH      |NA    |AGRICULTURE |Others    |Others                  |Market Information             |Mandi token related issue                                   |Advised to contact with mandi helpline number 1967 for mandi token related issue.                                                                                              |2023-02-04T07:53:55.59 |2023|2    |file:///D:/Scripts/Kissan%20Dataset/Dataset/kcc_dataset_ODISHA.csv|\n",
      "|ODISHA   |BHADRAK       |DHAMANAGAR    |NA    |AGRICULTURE |Others    |Others                  |Market Information             |Mandi related issue                                         |Advised  to consult the district agriculture officer.                                                                                                                          |2023-02-04T08:17:31.967|2023|2    |file:///D:/Scripts/Kissan%20Dataset/Dataset/kcc_dataset_ODISHA.csv|\n",
      "|ODISHA   |BARGARH       |GAISILET      |NA    |AGRICULTURE |Cereals   |Paddy (Dhan)            |Weed Management                |Algae in paddy fields                                       |--Recommended to apply Copper sulphate @ 4 kg in 20 kg of sand per acre to control Blue green Algae in Paddy field.                                                            |2023-02-02T17:56:30.833|2023|2    |file:///D:/Scripts/Kissan%20Dataset/Dataset/kcc_dataset_ODISHA.csv|\n",
      "|ODISHA   |CUTTACK       |TANGI CHOUDWAR|NA    |HORTICULTURE|Vegetables|Chillies                |\\tPlant Protection\\t           |Green peach aphid in chillies                               |Recommended to spray Fipronil 5% SC @ 400 ml per 200 litre of water per 1 acre of land / neem oil 3-5 ml per liter of water + soap powder then mix well then spray.            |2023-02-02T15:38:02.43 |2023|2    |file:///D:/Scripts/Kissan%20Dataset/Dataset/kcc_dataset_ODISHA.csv|\n",
      "|ODISHA   |PURI          |PIPILI        |NA    |AGRICULTURE |Pulses    |Black Gram (urd bean)   |Fertilizer Use and Availability|Fertilizer Dose of Black Gram                               |Fertilizer Dose of black gram : DAP 34 kg + Urea 3 kg + MOP 13 kg                                                                                                              |2023-02-02T15:41:24.15 |2023|2    |file:///D:/Scripts/Kissan%20Dataset/Dataset/kcc_dataset_ODISHA.csv|\n",
      "|ODISHA   |JAGATSINGHAPUR|TIRTOL        |NA    |HORTICULTURE|Vegetables|Bitter Gourd            |\\tPlant Protection\\t           |Chewing pest in bitter gourd                                |Recommended to spray Emamectin Benzoate 5 % SG@6gm per 15 litres of water                                                                                                      |2023-02-02T15:47:41.59 |2023|2    |file:///D:/Scripts/Kissan%20Dataset/Dataset/kcc_dataset_ODISHA.csv|\n",
      "|ODISHA   |MAYURBHANJ    |KULIANA       |NA    |AGRICULTURE |Millets   |Maize (Makka)           |\\tPlant Protection\\t           |Leaf Folder in Maize.                                       |Recommended to spray Indoxacarb 15.8% EC @ 120 ml in 200 Litre of water per acre of land (6 ml in 15 Litre water) to control Leaf folder in Maize.                             |NULL                   |NULL|NULL |file:///D:/Scripts/Kissan%20Dataset/Dataset/kcc_dataset_ODISHA.csv|\n",
      "|ODISHA   |BALASORE      |BHOGRAI       |NA    |HORTICULTURE|Vegetables|Bhindi(Okra/Ladysfinger)|\\tPlant Protection\\t           |Shoot borer in okra                                         |Recommended to apply spinosad 45 sc @ 6 ml per 15 litre of water to control the shoot borer in okra.                                                                           |2023-02-02T16:15:42.993|2023|2    |file:///D:/Scripts/Kissan%20Dataset/Dataset/kcc_dataset_ODISHA.csv|\n",
      "|ODISHA   |KEONJHAR      |PATANA        |NA    |HORTICULTURE|Vegetables|Pumpkin                 |\\tPlant Protection\\t           |chewing pest at 2 leaf stage of pumpkin                     | Recommended to apply Carbofuran 3G @ 5 gm per plant as ring methord / can spray neem oil 3-5 ml per liter of water + soap powder.                                             |2023-02-02T16:18:11.58 |2023|2    |file:///D:/Scripts/Kissan%20Dataset/Dataset/kcc_dataset_ODISHA.csv|\n",
      "|ODISHA   |BALANGIR      |GUDVELLA      |NA    |HORTICULTURE|Vegetables|Cucumber                |Seeds and Planting Material    |Varieties of Cucumber                                       |Varieties of cucumber - VNR ( Krish, Kumud) , Nuziveedu seeds ( Karisma, Kiran, Shalini), Tata ( Zara, Naira,003) , Japanese long , Poinsett                                   |NULL                   |NULL|NULL |file:///D:/Scripts/Kissan%20Dataset/Dataset/kcc_dataset_ODISHA.csv|\n",
      "|ODISHA   |NAYAGARH      |DASAPALLA     |NA    |AGRICULTURE |Others    |Others                  |Government Schemes             |New apply Kalia Scheme                                      |Advised to contact CSC center for new apply of kalia scheme but the site is close now so wait some days.                                                                       |2023-02-02T20:18:38.963|2023|2    |file:///D:/Scripts/Kissan%20Dataset/Dataset/kcc_dataset_ODISHA.csv|\n",
      "+---------+--------------+--------------+------+------------+----------+------------------------+-------------------------------+------------------------------------------------------------+-------------------------------------------------------------------------------------------------------------------------------------------------------------------------------+-----------------------+----+-----+------------------------------------------------------------------+\n",
      "only showing top 20 rows\n"
     ]
    }
   ],
   "source": [
    "from pyspark.sql.functions import col\n",
    "\n",
    "# List of valid state names\n",
    "valid_state_names = [\n",
    "    \"UTTAR PRADESH\", \"RAJASTHAN\", \"MAHARASHTRA\", \"MADHYA PRADESH\",\n",
    "    \"HARYANA\", \"PUNJAB\", \"GUJARAT\", \"BIHAR\", \"TAMILNADU\", \"KARNATAKA\",\n",
    "    \"ODISHA\", \"WEST BENGAL\", \"ANDHRA PRADESH\", \"TELANGANA\",\n",
    "    \"HIMACHAL PRADESH\", \"CHHATTISGARH\", \"JAMMU AND KASHMIR\",\n",
    "    \"JHARKAND\", \"UTTARAKHAND\", \"ASSAM\", \"KERALA\", \"DELHI\", \"TRIPURA\",\n",
    "    \"PUDUCHERRY\", \"MANIPUR\", \"MIZORAM\", \"MEGHALAYA\", \"GOA\", \"SIKKIM\",\n",
    "    \"ARUNACHAL PRADESH\", \"NAGALAND\", \"A AND N ISLANDS\", \"CHANDIGARH\",\n",
    "    \"LAKSHADWEEP\", \"0\", \"DADRA AND NAGAR HAVELI\", \"DAMAN AND DIU\"\n",
    "]\n",
    "\n",
    "# Filter the DataFrame to keep only rows where StateName is in the valid list\n",
    "cleaned_spark_df = cleaned_spark_df.filter(col(\"StateName\").isin(valid_state_names))\n",
    "\n",
    "# Show the result\n",
    "print(f\"Number of rows after filtering valid StateNames: {cleaned_spark_df.count()}\")\n",
    "cleaned_spark_df.show(20, truncate=False)\n"
   ]
  },
  {
   "cell_type": "code",
   "execution_count": 13,
   "id": "e97add1b",
   "metadata": {},
   "outputs": [
    {
     "name": "stdout",
     "output_type": "stream",
     "text": [
      "Checking for missing values (nulls) in all columns:\n",
      "+---------+------------+---------+------+------+--------+----+---------+---------+------+---------+-------+-------+-----------+\n",
      "|StateName|DistrictName|BlockName|Season|Sector|Category|Crop|QueryType|QueryText|KccAns|CreatedOn|   year|  month|source_file|\n",
      "+---------+------------+---------+------+------+--------+----+---------+---------+------+---------+-------+-------+-----------+\n",
      "|        0|           0|        0|     0|     0|       0|   0|        3|        0|     0|  7209172|7210199|7210520|          0|\n",
      "+---------+------------+---------+------+------+--------+----+---------+---------+------+---------+-------+-------+-----------+\n",
      "\n"
     ]
    }
   ],
   "source": [
    "from pyspark.sql.functions import col, sum\n",
    "\n",
    "# Check for missing values (nulls) in each column\n",
    "print(\"Checking for missing values (nulls) in all columns:\")\n",
    "cleaned_spark_df.select([sum(col(c).isNull().cast(\"integer\")).alias(c) for c in cleaned_spark_df.columns]).show()"
   ]
  },
  {
   "cell_type": "code",
   "execution_count": 14,
   "id": "9b240799",
   "metadata": {},
   "outputs": [
    {
     "name": "stdout",
     "output_type": "stream",
     "text": [
      "+-------------+--------------------------+------------+------+-----------+--------+------+---------+-----------------+-----------------+-----------------------+----+-----+-------------------------------------------------------------------------+\n",
      "|StateName    |DistrictName              |BlockName   |Season|Sector     |Category|Crop  |QueryType|QueryText        |KccAns           |CreatedOn              |year|month|source_file                                                              |\n",
      "+-------------+--------------------------+------------+------+-----------+--------+------+---------+-----------------+-----------------+-----------------------+----+-----+-------------------------------------------------------------------------+\n",
      "|UTTAR PRADESH|FATEHPUR                  |DHATA       |NA    |AGRICULTURE|Cereals |Wheat |NULL     |OTHER STATE CALL |OTHER STATE CALL |2025-07-16T10:21:42.5  |2025|7    |file:///D:/Scripts/Kissan%20Dataset/Dataset/kcc_dataset_UTTAR_PRADESH.csv|\n",
      "|UTTAR PRADESH|AMETHI ( Shahu Ji Maharaj)|null        |NA    |AGRICULTURE|Others  |Others|NULL     |t                |--t              |2025-07-19T17:51:43.87 |2025|7    |file:///D:/Scripts/Kissan%20Dataset/Dataset/kcc_dataset_UTTAR_PRADESH.csv|\n",
      "|BIHAR        |DARBHANGA                 |GHANSHYAMPUR|NA    |AGRICULTURE|0       |0     |NULL     |OTHER STATE  CALL|OTHER STATE  CALL|2025-07-21T09:09:54.483|2025|7    |file:///D:/Scripts/Kissan%20Dataset/Dataset/kcc_dataset_BIHAR.csv        |\n",
      "+-------------+--------------------------+------------+------+-----------+--------+------+---------+-----------------+-----------------+-----------------------+----+-----+-------------------------------------------------------------------------+\n",
      "\n",
      "Current total row count: 40757584\n",
      "Number of rows with null 'QueryType': 3\n"
     ]
    }
   ],
   "source": [
    "from pyspark.sql.functions import col\n",
    "\n",
    "# Get the current total row count\n",
    "total_row_count = cleaned_spark_df.count()\n",
    "\n",
    "# Filter rows where 'QueryType' is null\n",
    "df_query_type_null = cleaned_spark_df.filter(col(\"QueryType\").isNull())\n",
    "\n",
    "# Show the rows where 'QueryType' is null\n",
    "df_query_type_null.show(20, truncate=False)\n",
    "\n",
    "# Print the total row count and the number of rows with null 'QueryType'\n",
    "print(f\"Current total row count: {total_row_count}\")\n",
    "print(f\"Number of rows with null 'QueryType': {df_query_type_null.count()}\")\n"
   ]
  },
  {
   "cell_type": "code",
   "execution_count": 15,
   "id": "c14ab328",
   "metadata": {},
   "outputs": [
    {
     "name": "stdout",
     "output_type": "stream",
     "text": [
      "+---------+--------------+--------------+------+------------+----------+------------------------+-------------------------------+------------------------------------------------------------+-------------------------------------------------------------------------------------------------------------------------------------------------------------------------------+-----------------------+----+-----+------------------------------------------------------------------+\n",
      "|StateName|DistrictName  |BlockName     |Season|Sector      |Category  |Crop                    |QueryType                      |QueryText                                                   |KccAns                                                                                                                                                                         |CreatedOn              |year|month|source_file                                                       |\n",
      "+---------+--------------+--------------+------+------------+----------+------------------------+-------------------------------+------------------------------------------------------------+-------------------------------------------------------------------------------------------------------------------------------------------------------------------------------+-----------------------+----+-----+------------------------------------------------------------------+\n",
      "|ODISHA   |NAYAGARH      |DASAPALLA     |NA    |AGRICULTURE |Others    |Others                  |Government Schemes             |Mandi registration related                                  |Advised to contact mandi helpline no.1967                                                                                                                                      |2023-02-03T14:09:14.853|2023|2    |file:///D:/Scripts/Kissan%20Dataset/Dataset/kcc_dataset_ODISHA.csv|\n",
      "|ODISHA   |CUTTACK       |TANGI CHOUDWAR|NA    |HORTICULTURE|Flowers   |Hibiscus (Gurhal)       |\\tPlant Protection\\t           |White mealy bug in Hibiscus flower                          |Recommended to spray Acephate 75 SP @ 200 gm per 200 litre of water per 1 acre of land.                                                                                        |2023-02-03T14:16:45.627|2023|2    |file:///D:/Scripts/Kissan%20Dataset/Dataset/kcc_dataset_ODISHA.csv|\n",
      "|ODISHA   |BHADRAK       |BHADRAK       |NA    |HORTICULTURE|Fruits    |Mango                   |Nutrient Management            |About planofix ( Alpha naphthyl acetic acid 4.5% SL ) .     |Planofix ( Alpha naphthyl acetic acid 4.5% SL )  @ 3ml per 15 litre of water  and 6 ml per 15 litre for Mango.                                                                 |2023-02-03T15:10:34.647|2023|2    |file:///D:/Scripts/Kissan%20Dataset/Dataset/kcc_dataset_ODISHA.csv|\n",
      "|ODISHA   |KALAHANDI     |NARALA        |NA    |AGRICULTURE |Cereals   |Paddy (Dhan)            |\\tPlant Protection\\t           |Gall midge infestation in paddy                             |Recommended to spray Fipronil 5% SC @ 400 ml per 200 litre of water per 1 acre of land.                                                                                        |NULL                   |NULL|NULL |file:///D:/Scripts/Kissan%20Dataset/Dataset/kcc_dataset_ODISHA.csv|\n",
      "|ODISHA   |BARGARH       |SOHELLA       |NA    |AGRICULTURE |Cereals   |Paddy (Dhan)            |\\tPlant Protection\\t           |Leaf folder in paddy                                        |Recommended to spray Indoxacarb 15.8% EC @ 120 ml in 200 Litre of water per acre of land (6 ml in 15 Litre water) to control Leaf folder in Paddy.                             |2023-02-04T11:50:13.34 |2023|2    |file:///D:/Scripts/Kissan%20Dataset/Dataset/kcc_dataset_ODISHA.csv|\n",
      "|ODISHA   |PURI          |KANAS         |NA    |HORTICULTURE|Vegetables|Chillies                |\\tPlant Protection\\t           |leaf curling in chillies                                    |Recommended to spray Thiomethoxam 25% WG @ 80 gm per 200 litre of water per 1 acre of land or 6 gm in 15 liter of water.                                                       |2023-02-03T18:57:32.763|2023|2    |file:///D:/Scripts/Kissan%20Dataset/Dataset/kcc_dataset_ODISHA.csv|\n",
      "|ODISHA   |PURI          |KANAS         |NA    |HORTICULTURE|Vegetables|Pumpkin                 |Nutrient Management            |Better flower & fruit setting in pumpkin                    |Recommended to spray Biovita liquid @ 1ml per liter of water/15 ml in 15 liter of water.                                                                                       |2023-02-03T19:02:35.48 |2023|2    |file:///D:/Scripts/Kissan%20Dataset/Dataset/kcc_dataset_ODISHA.csv|\n",
      "|ODISHA   |NAWAPARA      |SINAPALI      |NA    |AGRICULTURE |Oilseeds  |Sunflower (suryamukhi)  |Cultural Practices             |Sunflower duration related query                            |Advised that sunflower duration is 90-100 days                                                                                                                                 |2023-02-03T19:10:06.393|2023|2    |file:///D:/Scripts/Kissan%20Dataset/Dataset/kcc_dataset_ODISHA.csv|\n",
      "|ODISHA   |BALASORE      |BALIAPAL      |NA    |AGRICULTURE |Cereals   |Paddy (Dhan)            |\\tPlant Protection\\t           |Way of application of saathi pre-emergence herbicide in rice|Recommended to spray Pyrazosulphuron ethyl 10% wp ( saathi ) @ 80 gm per 200 litre of water per 1 acre of land or apply with 20 kg of sand, after 2-3 days after transplanting.|2023-02-04T07:44:18.58 |2023|2    |file:///D:/Scripts/Kissan%20Dataset/Dataset/kcc_dataset_ODISHA.csv|\n",
      "|ODISHA   |KALAHANDI     |JUNAGARH      |NA    |AGRICULTURE |Others    |Others                  |Market Information             |Mandi token related issue                                   |Advised to contact with mandi helpline number 1967 for mandi token related issue.                                                                                              |2023-02-04T07:53:55.59 |2023|2    |file:///D:/Scripts/Kissan%20Dataset/Dataset/kcc_dataset_ODISHA.csv|\n",
      "|ODISHA   |BHADRAK       |DHAMANAGAR    |NA    |AGRICULTURE |Others    |Others                  |Market Information             |Mandi related issue                                         |Advised  to consult the district agriculture officer.                                                                                                                          |2023-02-04T08:17:31.967|2023|2    |file:///D:/Scripts/Kissan%20Dataset/Dataset/kcc_dataset_ODISHA.csv|\n",
      "|ODISHA   |BARGARH       |GAISILET      |NA    |AGRICULTURE |Cereals   |Paddy (Dhan)            |Weed Management                |Algae in paddy fields                                       |--Recommended to apply Copper sulphate @ 4 kg in 20 kg of sand per acre to control Blue green Algae in Paddy field.                                                            |2023-02-02T17:56:30.833|2023|2    |file:///D:/Scripts/Kissan%20Dataset/Dataset/kcc_dataset_ODISHA.csv|\n",
      "|ODISHA   |CUTTACK       |TANGI CHOUDWAR|NA    |HORTICULTURE|Vegetables|Chillies                |\\tPlant Protection\\t           |Green peach aphid in chillies                               |Recommended to spray Fipronil 5% SC @ 400 ml per 200 litre of water per 1 acre of land / neem oil 3-5 ml per liter of water + soap powder then mix well then spray.            |2023-02-02T15:38:02.43 |2023|2    |file:///D:/Scripts/Kissan%20Dataset/Dataset/kcc_dataset_ODISHA.csv|\n",
      "|ODISHA   |PURI          |PIPILI        |NA    |AGRICULTURE |Pulses    |Black Gram (urd bean)   |Fertilizer Use and Availability|Fertilizer Dose of Black Gram                               |Fertilizer Dose of black gram : DAP 34 kg + Urea 3 kg + MOP 13 kg                                                                                                              |2023-02-02T15:41:24.15 |2023|2    |file:///D:/Scripts/Kissan%20Dataset/Dataset/kcc_dataset_ODISHA.csv|\n",
      "|ODISHA   |JAGATSINGHAPUR|TIRTOL        |NA    |HORTICULTURE|Vegetables|Bitter Gourd            |\\tPlant Protection\\t           |Chewing pest in bitter gourd                                |Recommended to spray Emamectin Benzoate 5 % SG@6gm per 15 litres of water                                                                                                      |2023-02-02T15:47:41.59 |2023|2    |file:///D:/Scripts/Kissan%20Dataset/Dataset/kcc_dataset_ODISHA.csv|\n",
      "|ODISHA   |MAYURBHANJ    |KULIANA       |NA    |AGRICULTURE |Millets   |Maize (Makka)           |\\tPlant Protection\\t           |Leaf Folder in Maize.                                       |Recommended to spray Indoxacarb 15.8% EC @ 120 ml in 200 Litre of water per acre of land (6 ml in 15 Litre water) to control Leaf folder in Maize.                             |NULL                   |NULL|NULL |file:///D:/Scripts/Kissan%20Dataset/Dataset/kcc_dataset_ODISHA.csv|\n",
      "|ODISHA   |BALASORE      |BHOGRAI       |NA    |HORTICULTURE|Vegetables|Bhindi(Okra/Ladysfinger)|\\tPlant Protection\\t           |Shoot borer in okra                                         |Recommended to apply spinosad 45 sc @ 6 ml per 15 litre of water to control the shoot borer in okra.                                                                           |2023-02-02T16:15:42.993|2023|2    |file:///D:/Scripts/Kissan%20Dataset/Dataset/kcc_dataset_ODISHA.csv|\n",
      "|ODISHA   |KEONJHAR      |PATANA        |NA    |HORTICULTURE|Vegetables|Pumpkin                 |\\tPlant Protection\\t           |chewing pest at 2 leaf stage of pumpkin                     | Recommended to apply Carbofuran 3G @ 5 gm per plant as ring methord / can spray neem oil 3-5 ml per liter of water + soap powder.                                             |2023-02-02T16:18:11.58 |2023|2    |file:///D:/Scripts/Kissan%20Dataset/Dataset/kcc_dataset_ODISHA.csv|\n",
      "|ODISHA   |BALANGIR      |GUDVELLA      |NA    |HORTICULTURE|Vegetables|Cucumber                |Seeds and Planting Material    |Varieties of Cucumber                                       |Varieties of cucumber - VNR ( Krish, Kumud) , Nuziveedu seeds ( Karisma, Kiran, Shalini), Tata ( Zara, Naira,003) , Japanese long , Poinsett                                   |NULL                   |NULL|NULL |file:///D:/Scripts/Kissan%20Dataset/Dataset/kcc_dataset_ODISHA.csv|\n",
      "|ODISHA   |NAYAGARH      |DASAPALLA     |NA    |AGRICULTURE |Others    |Others                  |Government Schemes             |New apply Kalia Scheme                                      |Advised to contact CSC center for new apply of kalia scheme but the site is close now so wait some days.                                                                       |2023-02-02T20:18:38.963|2023|2    |file:///D:/Scripts/Kissan%20Dataset/Dataset/kcc_dataset_ODISHA.csv|\n",
      "+---------+--------------+--------------+------+------------+----------+------------------------+-------------------------------+------------------------------------------------------------+-------------------------------------------------------------------------------------------------------------------------------------------------------------------------------+-----------------------+----+-----+------------------------------------------------------------------+\n",
      "only showing top 20 rows\n",
      "Number of rows after dropping 'QueryType' is null: 40757581\n"
     ]
    }
   ],
   "source": [
    "# Drop rows where 'QueryType' is null\n",
    "cleaned_spark_df = cleaned_spark_df.filter(col(\"QueryType\").isNotNull())\n",
    "\n",
    "# Show the updated DataFrame (first 20 rows)\n",
    "cleaned_spark_df.show(20, truncate=False)\n",
    "\n",
    "# Print the new row count after dropping rows with null 'QueryType'\n",
    "print(f\"Number of rows after dropping 'QueryType' is null: {cleaned_spark_df.count()}\")\n"
   ]
  },
  {
   "cell_type": "code",
   "execution_count": 16,
   "id": "7154d746",
   "metadata": {},
   "outputs": [
    {
     "name": "stdout",
     "output_type": "stream",
     "text": [
      "Checking for missing values (nulls) in all columns:\n",
      "+---------+------------+---------+------+------+--------+----+---------+---------+------+---------+-------+-------+-----------+\n",
      "|StateName|DistrictName|BlockName|Season|Sector|Category|Crop|QueryType|QueryText|KccAns|CreatedOn|   year|  month|source_file|\n",
      "+---------+------------+---------+------+------+--------+----+---------+---------+------+---------+-------+-------+-----------+\n",
      "|        0|           0|        0|     0|     0|       0|   0|        0|        0|     0|  7209172|7210199|7210520|          0|\n",
      "+---------+------------+---------+------+------+--------+----+---------+---------+------+---------+-------+-------+-----------+\n",
      "\n"
     ]
    }
   ],
   "source": [
    "from pyspark.sql.functions import col, sum\n",
    "\n",
    "# Check for missing values (nulls) in each column\n",
    "print(\"Checking for missing values (nulls) in all columns:\")\n",
    "cleaned_spark_df.select([sum(col(c).isNull().cast(\"integer\")).alias(c) for c in cleaned_spark_df.columns]).show()"
   ]
  },
  {
   "cell_type": "code",
   "execution_count": 17,
   "id": "76cfa96e",
   "metadata": {},
   "outputs": [
    {
     "name": "stdout",
     "output_type": "stream",
     "text": [
      "+---------+--------------+--------------+------+------------+----------+------------------------+-------------------------------+------------------------------------------------------------+-------------------------------------------------------------------------------------------------------------------------------------------------------------------------------+-----------------------+----+-----+\n",
      "|StateName|DistrictName  |BlockName     |Season|Sector      |Category  |Crop                    |QueryType                      |QueryText                                                   |KccAns                                                                                                                                                                         |CreatedOn              |year|month|\n",
      "+---------+--------------+--------------+------+------------+----------+------------------------+-------------------------------+------------------------------------------------------------+-------------------------------------------------------------------------------------------------------------------------------------------------------------------------------+-----------------------+----+-----+\n",
      "|ODISHA   |NAYAGARH      |DASAPALLA     |NA    |AGRICULTURE |Others    |Others                  |Government Schemes             |Mandi registration related                                  |Advised to contact mandi helpline no.1967                                                                                                                                      |2023-02-03T14:09:14.853|2023|2    |\n",
      "|ODISHA   |CUTTACK       |TANGI CHOUDWAR|NA    |HORTICULTURE|Flowers   |Hibiscus (Gurhal)       |\\tPlant Protection\\t           |White mealy bug in Hibiscus flower                          |Recommended to spray Acephate 75 SP @ 200 gm per 200 litre of water per 1 acre of land.                                                                                        |2023-02-03T14:16:45.627|2023|2    |\n",
      "|ODISHA   |BHADRAK       |BHADRAK       |NA    |HORTICULTURE|Fruits    |Mango                   |Nutrient Management            |About planofix ( Alpha naphthyl acetic acid 4.5% SL ) .     |Planofix ( Alpha naphthyl acetic acid 4.5% SL )  @ 3ml per 15 litre of water  and 6 ml per 15 litre for Mango.                                                                 |2023-02-03T15:10:34.647|2023|2    |\n",
      "|ODISHA   |KALAHANDI     |NARALA        |NA    |AGRICULTURE |Cereals   |Paddy (Dhan)            |\\tPlant Protection\\t           |Gall midge infestation in paddy                             |Recommended to spray Fipronil 5% SC @ 400 ml per 200 litre of water per 1 acre of land.                                                                                        |NULL                   |NULL|NULL |\n",
      "|ODISHA   |BARGARH       |SOHELLA       |NA    |AGRICULTURE |Cereals   |Paddy (Dhan)            |\\tPlant Protection\\t           |Leaf folder in paddy                                        |Recommended to spray Indoxacarb 15.8% EC @ 120 ml in 200 Litre of water per acre of land (6 ml in 15 Litre water) to control Leaf folder in Paddy.                             |2023-02-04T11:50:13.34 |2023|2    |\n",
      "|ODISHA   |PURI          |KANAS         |NA    |HORTICULTURE|Vegetables|Chillies                |\\tPlant Protection\\t           |leaf curling in chillies                                    |Recommended to spray Thiomethoxam 25% WG @ 80 gm per 200 litre of water per 1 acre of land or 6 gm in 15 liter of water.                                                       |2023-02-03T18:57:32.763|2023|2    |\n",
      "|ODISHA   |PURI          |KANAS         |NA    |HORTICULTURE|Vegetables|Pumpkin                 |Nutrient Management            |Better flower & fruit setting in pumpkin                    |Recommended to spray Biovita liquid @ 1ml per liter of water/15 ml in 15 liter of water.                                                                                       |2023-02-03T19:02:35.48 |2023|2    |\n",
      "|ODISHA   |NAWAPARA      |SINAPALI      |NA    |AGRICULTURE |Oilseeds  |Sunflower (suryamukhi)  |Cultural Practices             |Sunflower duration related query                            |Advised that sunflower duration is 90-100 days                                                                                                                                 |2023-02-03T19:10:06.393|2023|2    |\n",
      "|ODISHA   |BALASORE      |BALIAPAL      |NA    |AGRICULTURE |Cereals   |Paddy (Dhan)            |\\tPlant Protection\\t           |Way of application of saathi pre-emergence herbicide in rice|Recommended to spray Pyrazosulphuron ethyl 10% wp ( saathi ) @ 80 gm per 200 litre of water per 1 acre of land or apply with 20 kg of sand, after 2-3 days after transplanting.|2023-02-04T07:44:18.58 |2023|2    |\n",
      "|ODISHA   |KALAHANDI     |JUNAGARH      |NA    |AGRICULTURE |Others    |Others                  |Market Information             |Mandi token related issue                                   |Advised to contact with mandi helpline number 1967 for mandi token related issue.                                                                                              |2023-02-04T07:53:55.59 |2023|2    |\n",
      "|ODISHA   |BHADRAK       |DHAMANAGAR    |NA    |AGRICULTURE |Others    |Others                  |Market Information             |Mandi related issue                                         |Advised  to consult the district agriculture officer.                                                                                                                          |2023-02-04T08:17:31.967|2023|2    |\n",
      "|ODISHA   |BARGARH       |GAISILET      |NA    |AGRICULTURE |Cereals   |Paddy (Dhan)            |Weed Management                |Algae in paddy fields                                       |--Recommended to apply Copper sulphate @ 4 kg in 20 kg of sand per acre to control Blue green Algae in Paddy field.                                                            |2023-02-02T17:56:30.833|2023|2    |\n",
      "|ODISHA   |CUTTACK       |TANGI CHOUDWAR|NA    |HORTICULTURE|Vegetables|Chillies                |\\tPlant Protection\\t           |Green peach aphid in chillies                               |Recommended to spray Fipronil 5% SC @ 400 ml per 200 litre of water per 1 acre of land / neem oil 3-5 ml per liter of water + soap powder then mix well then spray.            |2023-02-02T15:38:02.43 |2023|2    |\n",
      "|ODISHA   |PURI          |PIPILI        |NA    |AGRICULTURE |Pulses    |Black Gram (urd bean)   |Fertilizer Use and Availability|Fertilizer Dose of Black Gram                               |Fertilizer Dose of black gram : DAP 34 kg + Urea 3 kg + MOP 13 kg                                                                                                              |2023-02-02T15:41:24.15 |2023|2    |\n",
      "|ODISHA   |JAGATSINGHAPUR|TIRTOL        |NA    |HORTICULTURE|Vegetables|Bitter Gourd            |\\tPlant Protection\\t           |Chewing pest in bitter gourd                                |Recommended to spray Emamectin Benzoate 5 % SG@6gm per 15 litres of water                                                                                                      |2023-02-02T15:47:41.59 |2023|2    |\n",
      "|ODISHA   |MAYURBHANJ    |KULIANA       |NA    |AGRICULTURE |Millets   |Maize (Makka)           |\\tPlant Protection\\t           |Leaf Folder in Maize.                                       |Recommended to spray Indoxacarb 15.8% EC @ 120 ml in 200 Litre of water per acre of land (6 ml in 15 Litre water) to control Leaf folder in Maize.                             |NULL                   |NULL|NULL |\n",
      "|ODISHA   |BALASORE      |BHOGRAI       |NA    |HORTICULTURE|Vegetables|Bhindi(Okra/Ladysfinger)|\\tPlant Protection\\t           |Shoot borer in okra                                         |Recommended to apply spinosad 45 sc @ 6 ml per 15 litre of water to control the shoot borer in okra.                                                                           |2023-02-02T16:15:42.993|2023|2    |\n",
      "|ODISHA   |KEONJHAR      |PATANA        |NA    |HORTICULTURE|Vegetables|Pumpkin                 |\\tPlant Protection\\t           |chewing pest at 2 leaf stage of pumpkin                     | Recommended to apply Carbofuran 3G @ 5 gm per plant as ring methord / can spray neem oil 3-5 ml per liter of water + soap powder.                                             |2023-02-02T16:18:11.58 |2023|2    |\n",
      "|ODISHA   |BALANGIR      |GUDVELLA      |NA    |HORTICULTURE|Vegetables|Cucumber                |Seeds and Planting Material    |Varieties of Cucumber                                       |Varieties of cucumber - VNR ( Krish, Kumud) , Nuziveedu seeds ( Karisma, Kiran, Shalini), Tata ( Zara, Naira,003) , Japanese long , Poinsett                                   |NULL                   |NULL|NULL |\n",
      "|ODISHA   |NAYAGARH      |DASAPALLA     |NA    |AGRICULTURE |Others    |Others                  |Government Schemes             |New apply Kalia Scheme                                      |Advised to contact CSC center for new apply of kalia scheme but the site is close now so wait some days.                                                                       |2023-02-02T20:18:38.963|2023|2    |\n",
      "+---------+--------------+--------------+------+------------+----------+------------------------+-------------------------------+------------------------------------------------------------+-------------------------------------------------------------------------------------------------------------------------------------------------------------------------------+-----------------------+----+-----+\n",
      "only showing top 20 rows\n",
      "root\n",
      " |-- StateName: string (nullable = true)\n",
      " |-- DistrictName: string (nullable = true)\n",
      " |-- BlockName: string (nullable = true)\n",
      " |-- Season: string (nullable = true)\n",
      " |-- Sector: string (nullable = true)\n",
      " |-- Category: string (nullable = true)\n",
      " |-- Crop: string (nullable = true)\n",
      " |-- QueryType: string (nullable = true)\n",
      " |-- QueryText: string (nullable = true)\n",
      " |-- KccAns: string (nullable = true)\n",
      " |-- CreatedOn: string (nullable = true)\n",
      " |-- year: string (nullable = true)\n",
      " |-- month: string (nullable = true)\n",
      "\n"
     ]
    }
   ],
   "source": [
    "# Drop the 'source_file' column\n",
    "cleaned_spark_df = cleaned_spark_df.drop(\"source_file\")\n",
    "\n",
    "# Show the updated DataFrame (first 20 rows)\n",
    "cleaned_spark_df.show(20, truncate=False)\n",
    "\n",
    "# Print the schema to confirm that 'source_file' is dropped\n",
    "cleaned_spark_df.printSchema()\n"
   ]
  },
  {
   "cell_type": "code",
   "execution_count": 18,
   "id": "e66e9621",
   "metadata": {},
   "outputs": [
    {
     "name": "stdout",
     "output_type": "stream",
     "text": [
      "Checking for missing values (nulls) in all columns:\n",
      "+---------+------------+---------+------+------+--------+----+---------+---------+------+---------+-------+-------+\n",
      "|StateName|DistrictName|BlockName|Season|Sector|Category|Crop|QueryType|QueryText|KccAns|CreatedOn|   year|  month|\n",
      "+---------+------------+---------+------+------+--------+----+---------+---------+------+---------+-------+-------+\n",
      "|        0|           0|        0|     0|     0|       0|   0|        0|        0|     0|  7209172|7210199|7210520|\n",
      "+---------+------------+---------+------+------+--------+----+---------+---------+------+---------+-------+-------+\n",
      "\n"
     ]
    }
   ],
   "source": [
    "from pyspark.sql.functions import col, sum\n",
    "\n",
    "# Check for missing values (nulls) in each column\n",
    "print(\"Checking for missing values (nulls) in all columns:\")\n",
    "cleaned_spark_df.select([sum(col(c).isNull().cast(\"integer\")).alias(c) for c in cleaned_spark_df.columns]).show()"
   ]
  },
  {
   "cell_type": "code",
   "execution_count": 20,
   "id": "e7136b7e",
   "metadata": {},
   "outputs": [],
   "source": [
    "cols_to_drop = [\"CreatedOn\", \"StateName\", \"DistrictName\", \"BlockName\", \"Sector\"]\n",
    "reduced_df = cleaned_spark_df.drop(*cols_to_drop)"
   ]
  },
  {
   "cell_type": "code",
   "execution_count": 22,
   "id": "75577953",
   "metadata": {},
   "outputs": [
    {
     "name": "stdout",
     "output_type": "stream",
     "text": [
      "Collecting sparknlp\n",
      "  Downloading sparknlp-1.0.0-py3-none-any.whl (1.4 kB)\n",
      "Collecting spark-nlp\n",
      "  Downloading spark_nlp-6.1.5-py2.py3-none-any.whl (741 kB)\n",
      "Requirement already satisfied: numpy in c:\\users\\athul\\anaconda3\\lib\\site-packages (from sparknlp) (1.21.5)\n",
      "Installing collected packages: spark-nlp, sparknlp\n",
      "Successfully installed spark-nlp-6.1.5 sparknlp-1.0.0\n",
      "Note: you may need to restart the kernel to use updated packages.\n"
     ]
    }
   ],
   "source": [
    "pip install sparknlp\n"
   ]
  },
  {
   "cell_type": "code",
   "execution_count": 26,
   "id": "285bfa9d",
   "metadata": {},
   "outputs": [],
   "source": [
    "import sparknlp\n",
    "from pyspark.sql import SparkSession\n",
    "\n",
    "# Start Spark NLP with Spark\n",
    "#spark = sparknlp.start()\n",
    "\n",
    "spark.stop()\n",
    "import sparknlp\n",
    "spark = sparknlp.start()\n"
   ]
  },
  {
   "cell_type": "code",
   "execution_count": 27,
   "id": "8d411f4f",
   "metadata": {},
   "outputs": [
    {
     "ename": "TypeError",
     "evalue": "'JavaPackage' object is not callable",
     "output_type": "error",
     "traceback": [
      "\u001b[1;31m---------------------------------------------------------------------------\u001b[0m",
      "\u001b[1;31mTypeError\u001b[0m                                 Traceback (most recent call last)",
      "Input \u001b[1;32mIn [27]\u001b[0m, in \u001b[0;36m<cell line: 6>\u001b[1;34m()\u001b[0m\n\u001b[0;32m      3\u001b[0m \u001b[38;5;28;01mfrom\u001b[39;00m \u001b[38;5;21;01mpyspark\u001b[39;00m\u001b[38;5;21;01m.\u001b[39;00m\u001b[38;5;21;01mml\u001b[39;00m \u001b[38;5;28;01mimport\u001b[39;00m Pipeline\n\u001b[0;32m      5\u001b[0m \u001b[38;5;66;03m# Setup pipeline components\u001b[39;00m\n\u001b[1;32m----> 6\u001b[0m document_assembler \u001b[38;5;241m=\u001b[39m \u001b[43mDocumentAssembler\u001b[49m\u001b[43m(\u001b[49m\u001b[43m)\u001b[49m \\\n\u001b[0;32m      7\u001b[0m     \u001b[38;5;241m.\u001b[39msetInputCol(\u001b[38;5;124m\"\u001b[39m\u001b[38;5;124mQueryText\u001b[39m\u001b[38;5;124m\"\u001b[39m) \\\n\u001b[0;32m      8\u001b[0m     \u001b[38;5;241m.\u001b[39msetOutputCol(\u001b[38;5;124m\"\u001b[39m\u001b[38;5;124mdocument\u001b[39m\u001b[38;5;124m\"\u001b[39m)\n\u001b[0;32m     10\u001b[0m lang_detector \u001b[38;5;241m=\u001b[39m LanguageDetectorDL\u001b[38;5;241m.\u001b[39mpretrained(\u001b[38;5;124m\"\u001b[39m\u001b[38;5;124mld_wiki_tatoeba_cnn_21\u001b[39m\u001b[38;5;124m\"\u001b[39m, \u001b[38;5;124m\"\u001b[39m\u001b[38;5;124mxx\u001b[39m\u001b[38;5;124m\"\u001b[39m) \\\n\u001b[0;32m     11\u001b[0m     \u001b[38;5;241m.\u001b[39msetInputCols([\u001b[38;5;124m\"\u001b[39m\u001b[38;5;124mdocument\u001b[39m\u001b[38;5;124m\"\u001b[39m]) \\\n\u001b[0;32m     12\u001b[0m     \u001b[38;5;241m.\u001b[39msetOutputCol(\u001b[38;5;124m\"\u001b[39m\u001b[38;5;124mlanguage\u001b[39m\u001b[38;5;124m\"\u001b[39m)\n\u001b[0;32m     14\u001b[0m finisher \u001b[38;5;241m=\u001b[39m Finisher()\u001b[38;5;241m.\u001b[39msetInputCols([\u001b[38;5;124m\"\u001b[39m\u001b[38;5;124mlanguage\u001b[39m\u001b[38;5;124m\"\u001b[39m])\n",
      "File \u001b[1;32m~\\anaconda3\\lib\\site-packages\\pyspark\\__init__.py:115\u001b[0m, in \u001b[0;36mkeyword_only.<locals>.wrapper\u001b[1;34m(self, *args, **kwargs)\u001b[0m\n\u001b[0;32m    113\u001b[0m     \u001b[38;5;28;01mraise\u001b[39;00m \u001b[38;5;167;01mTypeError\u001b[39;00m(\u001b[38;5;124m\"\u001b[39m\u001b[38;5;124mMethod \u001b[39m\u001b[38;5;132;01m%s\u001b[39;00m\u001b[38;5;124m forces keyword arguments.\u001b[39m\u001b[38;5;124m\"\u001b[39m \u001b[38;5;241m%\u001b[39m func\u001b[38;5;241m.\u001b[39m\u001b[38;5;18m__name__\u001b[39m)\n\u001b[0;32m    114\u001b[0m \u001b[38;5;28mself\u001b[39m\u001b[38;5;241m.\u001b[39m_input_kwargs \u001b[38;5;241m=\u001b[39m kwargs\n\u001b[1;32m--> 115\u001b[0m \u001b[38;5;28;01mreturn\u001b[39;00m func(\u001b[38;5;28mself\u001b[39m, \u001b[38;5;241m*\u001b[39m\u001b[38;5;241m*\u001b[39mkwargs)\n",
      "File \u001b[1;32m~\\anaconda3\\lib\\site-packages\\sparknlp\\base\\document_assembler.py:96\u001b[0m, in \u001b[0;36mDocumentAssembler.__init__\u001b[1;34m(self)\u001b[0m\n\u001b[0;32m     94\u001b[0m \u001b[38;5;129m@keyword_only\u001b[39m\n\u001b[0;32m     95\u001b[0m \u001b[38;5;28;01mdef\u001b[39;00m \u001b[38;5;21m__init__\u001b[39m(\u001b[38;5;28mself\u001b[39m):\n\u001b[1;32m---> 96\u001b[0m     \u001b[38;5;28;43msuper\u001b[39;49m\u001b[43m(\u001b[49m\u001b[43mDocumentAssembler\u001b[49m\u001b[43m,\u001b[49m\u001b[43m \u001b[49m\u001b[38;5;28;43mself\u001b[39;49m\u001b[43m)\u001b[49m\u001b[38;5;241;43m.\u001b[39;49m\u001b[38;5;21;43m__init__\u001b[39;49m\u001b[43m(\u001b[49m\u001b[43mclassname\u001b[49m\u001b[38;5;241;43m=\u001b[39;49m\u001b[38;5;124;43m\"\u001b[39;49m\u001b[38;5;124;43mcom.johnsnowlabs.nlp.DocumentAssembler\u001b[39;49m\u001b[38;5;124;43m\"\u001b[39;49m\u001b[43m)\u001b[49m\n\u001b[0;32m     97\u001b[0m     \u001b[38;5;28mself\u001b[39m\u001b[38;5;241m.\u001b[39m_setDefault(outputCol\u001b[38;5;241m=\u001b[39m\u001b[38;5;124m\"\u001b[39m\u001b[38;5;124mdocument\u001b[39m\u001b[38;5;124m\"\u001b[39m, cleanupMode\u001b[38;5;241m=\u001b[39m\u001b[38;5;124m'\u001b[39m\u001b[38;5;124mdisabled\u001b[39m\u001b[38;5;124m'\u001b[39m)\n",
      "File \u001b[1;32m~\\anaconda3\\lib\\site-packages\\pyspark\\__init__.py:115\u001b[0m, in \u001b[0;36mkeyword_only.<locals>.wrapper\u001b[1;34m(self, *args, **kwargs)\u001b[0m\n\u001b[0;32m    113\u001b[0m     \u001b[38;5;28;01mraise\u001b[39;00m \u001b[38;5;167;01mTypeError\u001b[39;00m(\u001b[38;5;124m\"\u001b[39m\u001b[38;5;124mMethod \u001b[39m\u001b[38;5;132;01m%s\u001b[39;00m\u001b[38;5;124m forces keyword arguments.\u001b[39m\u001b[38;5;124m\"\u001b[39m \u001b[38;5;241m%\u001b[39m func\u001b[38;5;241m.\u001b[39m\u001b[38;5;18m__name__\u001b[39m)\n\u001b[0;32m    114\u001b[0m \u001b[38;5;28mself\u001b[39m\u001b[38;5;241m.\u001b[39m_input_kwargs \u001b[38;5;241m=\u001b[39m kwargs\n\u001b[1;32m--> 115\u001b[0m \u001b[38;5;28;01mreturn\u001b[39;00m func(\u001b[38;5;28mself\u001b[39m, \u001b[38;5;241m*\u001b[39m\u001b[38;5;241m*\u001b[39mkwargs)\n",
      "File \u001b[1;32m~\\anaconda3\\lib\\site-packages\\sparknlp\\internal\\annotator_transformer.py:36\u001b[0m, in \u001b[0;36mAnnotatorTransformer.__init__\u001b[1;34m(self, classname)\u001b[0m\n\u001b[0;32m     34\u001b[0m \u001b[38;5;28mself\u001b[39m\u001b[38;5;241m.\u001b[39msetParams(\u001b[38;5;241m*\u001b[39m\u001b[38;5;241m*\u001b[39mkwargs)\n\u001b[0;32m     35\u001b[0m \u001b[38;5;28mself\u001b[39m\u001b[38;5;241m.\u001b[39m\u001b[38;5;18m__class__\u001b[39m\u001b[38;5;241m.\u001b[39m_java_class_name \u001b[38;5;241m=\u001b[39m classname\n\u001b[1;32m---> 36\u001b[0m \u001b[38;5;28mself\u001b[39m\u001b[38;5;241m.\u001b[39m_java_obj \u001b[38;5;241m=\u001b[39m \u001b[38;5;28;43mself\u001b[39;49m\u001b[38;5;241;43m.\u001b[39;49m\u001b[43m_new_java_obj\u001b[49m\u001b[43m(\u001b[49m\u001b[43mclassname\u001b[49m\u001b[43m,\u001b[49m\u001b[43m \u001b[49m\u001b[38;5;28;43mself\u001b[39;49m\u001b[38;5;241;43m.\u001b[39;49m\u001b[43muid\u001b[49m\u001b[43m)\u001b[49m\n",
      "File \u001b[1;32m~\\anaconda3\\lib\\site-packages\\pyspark\\ml\\util.py:313\u001b[0m, in \u001b[0;36mtry_remote_return_java_class.<locals>.wrapped\u001b[1;34m(java_class, *args)\u001b[0m\n\u001b[0;32m    311\u001b[0m     \u001b[38;5;28;01mreturn\u001b[39;00m java_class\n\u001b[0;32m    312\u001b[0m \u001b[38;5;28;01melse\u001b[39;00m:\n\u001b[1;32m--> 313\u001b[0m     \u001b[38;5;28;01mreturn\u001b[39;00m \u001b[43mf\u001b[49m\u001b[43m(\u001b[49m\u001b[43mjava_class\u001b[49m\u001b[43m,\u001b[49m\u001b[43m \u001b[49m\u001b[38;5;241;43m*\u001b[39;49m\u001b[43margs\u001b[49m\u001b[43m)\u001b[49m\n",
      "File \u001b[1;32m~\\anaconda3\\lib\\site-packages\\pyspark\\ml\\wrapper.py:104\u001b[0m, in \u001b[0;36mJavaWrapper._new_java_obj\u001b[1;34m(java_class, *args)\u001b[0m\n\u001b[0;32m    102\u001b[0m     java_obj \u001b[38;5;241m=\u001b[39m \u001b[38;5;28mgetattr\u001b[39m(java_obj, name)\n\u001b[0;32m    103\u001b[0m java_args \u001b[38;5;241m=\u001b[39m [_py2java(sc, arg) \u001b[38;5;28;01mfor\u001b[39;00m arg \u001b[38;5;129;01min\u001b[39;00m args]\n\u001b[1;32m--> 104\u001b[0m \u001b[38;5;28;01mreturn\u001b[39;00m \u001b[43mjava_obj\u001b[49m\u001b[43m(\u001b[49m\u001b[38;5;241;43m*\u001b[39;49m\u001b[43mjava_args\u001b[49m\u001b[43m)\u001b[49m\n",
      "\u001b[1;31mTypeError\u001b[0m: 'JavaPackage' object is not callable"
     ]
    }
   ],
   "source": [
    "from sparknlp.base import DocumentAssembler, Finisher\n",
    "from sparknlp.annotator import LanguageDetectorDL\n",
    "from pyspark.ml import Pipeline\n",
    "\n",
    "# Setup pipeline components\n",
    "document_assembler = DocumentAssembler() \\\n",
    "    .setInputCol(\"QueryText\") \\\n",
    "    .setOutputCol(\"document\")\n",
    "\n",
    "lang_detector = LanguageDetectorDL.pretrained(\"ld_wiki_tatoeba_cnn_21\", \"xx\") \\\n",
    "    .setInputCols([\"document\"]) \\\n",
    "    .setOutputCol(\"language\")\n",
    "\n",
    "finisher = Finisher().setInputCols([\"language\"])\n",
    "\n",
    "# Create Pipeline\n",
    "language_pipeline = Pipeline(stages=[\n",
    "    document_assembler,\n",
    "    lang_detector,\n",
    "    finisher\n",
    "])\n"
   ]
  },
  {
   "cell_type": "code",
   "execution_count": null,
   "id": "f05bfd41",
   "metadata": {},
   "outputs": [],
   "source": [
    "# Fit and transform\n",
    "language_model = language_pipeline.fit(reduced_df)\n",
    "lang_detected_df = language_model.transform(reduced_df)\n",
    "\n",
    "# Extract detected language code (e.g., 'en', 'hi', 'mr')\n",
    "from pyspark.sql.functions import col\n",
    "\n",
    "lang_detected_df = lang_detected_df.withColumn(\"detected_language\", col(\"language.result\")[0])\n",
    "\n",
    "# Show some examples\n",
    "lang_detected_df.select(\"QueryText\", \"detected_language\").show(10, truncate=False)\n"
   ]
  },
  {
   "cell_type": "code",
   "execution_count": null,
   "id": "676d3fe4",
   "metadata": {},
   "outputs": [],
   "source": []
  }
 ],
 "metadata": {
  "kernelspec": {
   "display_name": "Python 3 (ipykernel)",
   "language": "python",
   "name": "python3"
  },
  "language_info": {
   "codemirror_mode": {
    "name": "ipython",
    "version": 3
   },
   "file_extension": ".py",
   "mimetype": "text/x-python",
   "name": "python",
   "nbconvert_exporter": "python",
   "pygments_lexer": "ipython3",
   "version": "3.9.12"
  }
 },
 "nbformat": 4,
 "nbformat_minor": 5
}
